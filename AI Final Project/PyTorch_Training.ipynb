{
  "cells": [
    {
      "cell_type": "code",
      "execution_count": null,
      "id": "d4b8299d",
      "metadata": {
        "id": "d4b8299d"
      },
      "outputs": [],
      "source": [
        "#import libraries\n",
        "import torch\n",
        "from torch import nn\n",
        "from torchvision import transforms, datasets\n",
        "from torchsummary import summary\n",
        "from torch.utils.data import DataLoader\n",
        "import numpy as np\n",
        "import matplotlib.pyplot as plt\n"
      ]
    },
    {
      "cell_type": "code",
      "execution_count": null,
      "id": "7d12441c",
      "metadata": {
        "id": "7d12441c"
      },
      "outputs": [],
      "source": [
        "#define the model class deriving from PyTorch’s on.Module. \n",
        "#This approach is like TensorFlow’s model subclassing. \n",
        "#Here, you defined the class name NeuralNetwork. \n",
        "#This class contains two elements:\n",
        "#The __init__ method, which acts like the class constructor. You use this method to define the feedforward network. \n",
        "#Specifically, you flatten the input (reshape the image from (28, 28) to a 728-dimensional vector. \n",
        "#Then, you create the linear stack of layers. \n",
        "#It has the same structure as the network created with TensorFlow. \n",
        "#There are, of course, slight differences in naming conventions. You use Linear (PyTorch) instead of Dense (TensorFlow). \n",
        "#In PyTorch, you must use activation functions separately, right after the Linear layers.\n",
        "#The forward method takes the input image, flattens it, and then passes it through the network to calculate the prediction (score array).\n",
        "\n",
        "class_names = range(10);\n",
        "\n",
        "class NeuralNetwork(nn.Module):\n",
        "    def __init__(self):\n",
        "        super(NeuralNetwork, self).__init__()\n",
        "        self.flatten = nn.Flatten()\n",
        "        self.linear_stack = nn.Sequential(\n",
        "            nn.Linear(28*28, 64),            \n",
        "            nn.Tanh(),            \n",
        "            nn.Dropout(.2),\n",
        "            \n",
        "            nn.Linear(64, 128),\n",
        "            nn.Sigmoid(),\n",
        "            nn.Dropout(.2),\n",
        "\n",
        "            nn.Linear(128, len(class_names)),\n",
        "            nn.Softmax(dim=1)\n",
        "        )\n",
        "\n",
        "    def forward(self, x):\n",
        "        x = self.flatten(x)\n",
        "        logits = self.linear_stack(x)\n",
        "        return logits\n",
        "\n"
      ]
    },
    {
      "cell_type": "code",
      "execution_count": null,
      "id": "aa10f042",
      "metadata": {
        "colab": {
          "base_uri": "https://localhost:8080/"
        },
        "id": "aa10f042",
        "outputId": "358a9575-b0ad-42bf-8e66-ec4e84c7feaa"
      },
      "outputs": [
        {
          "output_type": "stream",
          "name": "stdout",
          "text": [
            "----------------------------------------------------------------\n",
            "        Layer (type)               Output Shape         Param #\n",
            "================================================================\n",
            "           Flatten-1                  [-1, 784]               0\n",
            "            Linear-2                   [-1, 64]          50,240\n",
            "              Tanh-3                   [-1, 64]               0\n",
            "           Dropout-4                   [-1, 64]               0\n",
            "            Linear-5                  [-1, 128]           8,320\n",
            "           Sigmoid-6                  [-1, 128]               0\n",
            "           Dropout-7                  [-1, 128]               0\n",
            "            Linear-8                   [-1, 10]           1,290\n",
            "           Softmax-9                   [-1, 10]               0\n",
            "================================================================\n",
            "Total params: 59,850\n",
            "Trainable params: 59,850\n",
            "Non-trainable params: 0\n",
            "----------------------------------------------------------------\n",
            "Input size (MB): 0.00\n",
            "Forward/backward pass size (MB): 0.01\n",
            "Params size (MB): 0.23\n",
            "Estimated Total Size (MB): 0.24\n",
            "----------------------------------------------------------------\n"
          ]
        }
      ],
      "source": [
        "#initialize the model and display its summary:\n",
        "model = NeuralNetwork();\n",
        "\n",
        "summary(model, (1, 28, 28))"
      ]
    },
    {
      "cell_type": "code",
      "execution_count": null,
      "id": "5bf51ad1",
      "metadata": {
        "colab": {
          "base_uri": "https://localhost:8080/"
        },
        "id": "5bf51ad1",
        "outputId": "48654835-ffd6-4014-e176-2011f0fe84c7"
      },
      "outputs": [
        {
          "output_type": "stream",
          "name": "stdout",
          "text": [
            "Downloading http://yann.lecun.com/exdb/mnist/train-images-idx3-ubyte.gz\n",
            "Downloading http://yann.lecun.com/exdb/mnist/train-images-idx3-ubyte.gz to data/MNIST/raw/train-images-idx3-ubyte.gz\n"
          ]
        },
        {
          "output_type": "stream",
          "name": "stderr",
          "text": [
            "100%|██████████| 9912422/9912422 [00:00<00:00, 115981329.61it/s]\n"
          ]
        },
        {
          "output_type": "stream",
          "name": "stdout",
          "text": [
            "Extracting data/MNIST/raw/train-images-idx3-ubyte.gz to data/MNIST/raw\n",
            "\n",
            "Downloading http://yann.lecun.com/exdb/mnist/train-labels-idx1-ubyte.gz\n",
            "Downloading http://yann.lecun.com/exdb/mnist/train-labels-idx1-ubyte.gz to data/MNIST/raw/train-labels-idx1-ubyte.gz\n"
          ]
        },
        {
          "output_type": "stream",
          "name": "stderr",
          "text": [
            "100%|██████████| 28881/28881 [00:00<00:00, 52011890.86it/s]\n"
          ]
        },
        {
          "output_type": "stream",
          "name": "stdout",
          "text": [
            "Extracting data/MNIST/raw/train-labels-idx1-ubyte.gz to data/MNIST/raw\n",
            "\n",
            "Downloading http://yann.lecun.com/exdb/mnist/t10k-images-idx3-ubyte.gz\n",
            "Downloading http://yann.lecun.com/exdb/mnist/t10k-images-idx3-ubyte.gz to data/MNIST/raw/t10k-images-idx3-ubyte.gz\n"
          ]
        },
        {
          "output_type": "stream",
          "name": "stderr",
          "text": [
            "100%|██████████| 1648877/1648877 [00:00<00:00, 35281740.02it/s]\n"
          ]
        },
        {
          "output_type": "stream",
          "name": "stdout",
          "text": [
            "Extracting data/MNIST/raw/t10k-images-idx3-ubyte.gz to data/MNIST/raw\n",
            "\n",
            "Downloading http://yann.lecun.com/exdb/mnist/t10k-labels-idx1-ubyte.gz\n",
            "Downloading http://yann.lecun.com/exdb/mnist/t10k-labels-idx1-ubyte.gz to data/MNIST/raw/t10k-labels-idx1-ubyte.gz\n"
          ]
        },
        {
          "output_type": "stream",
          "name": "stderr",
          "text": [
            "100%|██████████| 4542/4542 [00:00<00:00, 2765354.73it/s]"
          ]
        },
        {
          "output_type": "stream",
          "name": "stdout",
          "text": [
            "Extracting data/MNIST/raw/t10k-labels-idx1-ubyte.gz to data/MNIST/raw\n",
            "\n"
          ]
        },
        {
          "output_type": "stream",
          "name": "stderr",
          "text": [
            "\n"
          ]
        }
      ],
      "source": [
        "#load data\n",
        "\n",
        "#When accessing the dataset, you can specify the transformations to apply to each item. \n",
        "#Here, you use ToTensor transform, which converts MNIST images to tensors and scales the images to the range 0-1.\n",
        "#To load the data, you use the DataLoader utility class. \n",
        "#This class enables you to load multiple images at once. \n",
        "#You control the number of images to load using the batch_size parameter. \n",
        "#You set its value to 32, the same as TensorFlow’s default value for the fit method.\n",
        "\n",
        "\n",
        "# Training data \n",
        "training_data = datasets.MNIST(\n",
        "    root=\"data\",\n",
        "    train=True,\n",
        "    download=True,\n",
        "    transform=transforms.ToTensor()\n",
        ")\n",
        "\n",
        "# Test data\n",
        "test_data = datasets.MNIST(\n",
        "    root=\"data\",\n",
        "    train=False,\n",
        "    download=True,\n",
        "    transform=transforms.ToTensor()\n",
        ")\n",
        "\n",
        "# Dataloaders \n",
        "batch_size = 32\n",
        "\n",
        "train_dataloader = DataLoader(training_data, batch_size=batch_size)\n",
        "test_dataloader = DataLoader(test_data, batch_size=batch_size)"
      ]
    },
    {
      "cell_type": "code",
      "execution_count": null,
      "id": "0fae80e7",
      "metadata": {
        "id": "0fae80e7"
      },
      "outputs": [],
      "source": [
        "#specify the loss function, and the optimizer\n",
        "#Similar to tensorflow, you use the CrossEntropyLoss, and use the Adam optimizer. \n",
        "#For the learning rate, you set 1e-3, which is the same value as the default in TensorFlow.\n",
        "\n",
        "learning_rate = 1e-3;\n",
        "\n",
        "loss_fn = nn.CrossEntropyLoss()\n",
        "optimizer = torch.optim.Adam(model.parameters(), lr=learning_rate)"
      ]
    },
    {
      "cell_type": "code",
      "execution_count": null,
      "id": "7dccfea6",
      "metadata": {
        "id": "7dccfea6"
      },
      "outputs": [],
      "source": [
        "#Then, you must define the method for training and evaluating your feedforward neural network. \n",
        "#This is equivalent to the fit method from TensorFlow.\n",
        "\n",
        "#The first method, train_loop, uses the backpropagation algorithm to optimize the trainable parameters \n",
        "#to minimize the prediction error of the neural network. \n",
        "#The second method, test_loop, calculates the neural network \n",
        "#error using the test images and displays the accuracy and loss value. \n",
        "\n",
        "def train_loop(dataloader, model, loss_fn, optimizer):\n",
        "    size = len(dataloader.dataset)\n",
        "    for batch, (x, y) in enumerate(dataloader):\n",
        "        # Compute prediction and loss\n",
        "        pred = model(x)\n",
        "        loss = loss_fn(pred, y)\n",
        "\n",
        "        # Backpropagation\n",
        "        optimizer.zero_grad()\n",
        "        loss.backward()\n",
        "        optimizer.step()\n",
        "\n",
        "\n",
        "def test_loop(dataloader, model, loss_fn):\n",
        "    size = len(dataloader.dataset)\n",
        "    num_batches = len(dataloader)\n",
        "    test_loss, correct = 0, 0\n",
        "\n",
        "    with torch.no_grad():\n",
        "        for x, y in dataloader:\n",
        "            pred = model(x)\n",
        "            test_loss += loss_fn(pred, y).item()\n",
        "            correct += (pred.argmax(1) == y).type(torch.float).sum().item()\n",
        "\n",
        "    test_loss /= num_batches\n",
        "    correct /= size\n",
        "    \n",
        "    print(f\"Accuracy: {(100*correct):>0.1f}%, Avg loss: {test_loss:>8f} \\n\")"
      ]
    },
    {
      "cell_type": "code",
      "execution_count": null,
      "id": "07ade6c1",
      "metadata": {
        "colab": {
          "base_uri": "https://localhost:8080/"
        },
        "id": "07ade6c1",
        "outputId": "cc6ab6eb-8c31-442c-d225-e8129d97e5e6"
      },
      "outputs": [
        {
          "output_type": "stream",
          "name": "stdout",
          "text": [
            "Epoch 1:\n",
            "Accuracy: 91.5%, Avg loss: 1.555247 \n",
            "\n",
            "Epoch 2:\n",
            "Accuracy: 93.1%, Avg loss: 1.533483 \n",
            "\n",
            "Epoch 3:\n",
            "Accuracy: 93.5%, Avg loss: 1.530424 \n",
            "\n",
            "Epoch 4:\n",
            "Accuracy: 94.4%, Avg loss: 1.519677 \n",
            "\n",
            "Epoch 5:\n",
            "Accuracy: 94.5%, Avg loss: 1.518376 \n",
            "\n",
            "Epoch 6:\n",
            "Accuracy: 95.0%, Avg loss: 1.513600 \n",
            "\n",
            "Epoch 7:\n",
            "Accuracy: 95.0%, Avg loss: 1.512689 \n",
            "\n",
            "Epoch 8:\n",
            "Accuracy: 94.8%, Avg loss: 1.514118 \n",
            "\n",
            "Epoch 9:\n",
            "Accuracy: 95.3%, Avg loss: 1.510094 \n",
            "\n",
            "Epoch 10:\n",
            "Accuracy: 94.9%, Avg loss: 1.514308 \n",
            "\n"
          ]
        }
      ],
      "source": [
        "#now invoke those methods to train and evaluate the model. Like TensorFlow, you use ten epochs:\n",
        "#model gives 95% accuracy\n",
        "\n",
        "epochs = 10\n",
        "\n",
        "for t in range(epochs):\n",
        "    print(f\"Epoch {t+1}:\")\n",
        "    train_loop(train_dataloader, model, loss_fn, optimizer)\n",
        "    test_loop(test_dataloader, model, loss_fn)"
      ]
    },
    {
      "cell_type": "code",
      "source": [
        "# get the test images with their labels:\n",
        "test_images, test_labels = next(iter(test_dataloader))\n",
        "\n",
        "# Recognize digits\n",
        "prediction_result = model(test_images);\n",
        "\n",
        "# Get predicted labels\n",
        "predicted_labels = prediction_result.argmax(1);"
      ],
      "metadata": {
        "id": "pF5EjPYO2S0-"
      },
      "id": "pF5EjPYO2S0-",
      "execution_count": null,
      "outputs": []
    },
    {
      "cell_type": "code",
      "source": [
        "# Get randomly selected image for preview\n",
        "preview_image_index = np.random.randint(0, test_images.shape[0] - 1)\n",
        "\n",
        "plt.figure()\n",
        "plt.xticks([])\n",
        "plt.yticks([])\n",
        "plt.grid(False)\n",
        "plt.imshow(test_images[preview_image_index][0].numpy(), cmap=plt.cm.binary)\n",
        "\n",
        "plt.xlabel(f\"Actual: {test_labels[preview_image_index]} \\n Predicted: {predicted_labels[preview_image_index]}\", fontsize=20);"
      ],
      "metadata": {
        "colab": {
          "base_uri": "https://localhost:8080/",
          "height": 472
        },
        "id": "ZgIV2fPL2S6C",
        "outputId": "e506bc38-1434-431f-adc7-a238cb4445a3"
      },
      "id": "ZgIV2fPL2S6C",
      "execution_count": null,
      "outputs": [
        {
          "output_type": "display_data",
          "data": {
            "text/plain": [
              "<Figure size 640x480 with 1 Axes>"
            ],
            "image/png": "[encoded data removed]"
          },
          "metadata": {}
        }
      ]
    }
  ],
  "metadata": {
    "kernelspec": {
      "display_name": "Python 3 (ipykernel)",
      "language": "python",
      "name": "python3"
    },
    "language_info": {
      "codemirror_mode": {
        "name": "ipython",
        "version": 3
      },
      "file_extension": ".py",
      "mimetype": "text/x-python",
      "name": "python",
      "nbconvert_exporter": "python",
      "pygments_lexer": "ipython3",
      "version": "3.10.6"
    },
    "colab": {
      "provenance": []
    }
  },
  "nbformat": 4,
  "nbformat_minor": 5
}